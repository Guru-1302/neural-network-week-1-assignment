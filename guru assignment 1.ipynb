{
  "cells": [
    {
      "cell_type": "code",
      "source": [
        "def fullname(first_name, last_name):\n",
        "    \"\"\"\n",
        "    Concatenates first_name and last_name to return the full name.\n",
        "    \"\"\"\n",
        "    return f\"{first_name} {last_name}\".strip()\n",
        "\n",
        "def string_alternative(input_str):\n",
        "    \"\"\"\n",
        "    Returns a string containing every other character of the input string.\n",
        "    \"\"\"\n",
        "    return input_str[::2]\n",
        "\n",
        "def main():\n",
        "    first_name = input(\"Enter your first name: \").strip()\n",
        "    last_name = input(\"Enter your last name: \").strip()\n",
        "\n",
        "    full_name = fullname(first_name, last_name)\n",
        "\n",
        "    alternative_string = string_alternative(full_name)\n",
        "\n",
        "    print(\"Full Name:\", full_name)\n",
        "    print(\"String Alternative:\", alternative_string)\n",
        "\n",
        "if __name__ == \"__main__\":\n",
        "    main()"
      ],
      "metadata": {
        "id": "VTZ8NEbMuUPa",
        "outputId": "3950abf6-c5bb-4488-de6f-226ba3f923b2",
        "colab": {
          "base_uri": "https://localhost:8080/"
        }
      },
      "execution_count": 2,
      "outputs": [
        {
          "output_type": "stream",
          "name": "stdout",
          "text": [
            "Enter your first name: guru\n",
            "Enter your last name: raghavender\n",
            "Full Name: guru raghavender\n",
            "String Alternative: gr ahvne\n"
          ]
        }
      ]
    },
    {
      "cell_type": "code",
      "source": [
        "def create_input_file():\n",
        "    with open(\"input.txt\", \"w\") as file:\n",
        "        file.write(\"Python Course\\n\")\n",
        "        file.write(\"Deep Learning Course\\n\")\n",
        "\n",
        "def count_words_in_file(input_file, output_file):\n",
        "    try:\n",
        "        with open(input_file, 'r') as infile, open(output_file, 'w') as outfile:\n",
        "            lines = infile.readlines()\n",
        "            word_count = {}\n",
        "            for line in lines:\n",
        "                outfile.write(line)\n",
        "                for word in line.split():\n",
        "                    word_count[word] = word_count.get(word, 0) + 1\n",
        "            outfile.write(\"\\nWord_Count:\\n\" + \"\\n\".join(f\"{word}: {count}\" for word, count in word_count.items()))\n",
        "    except FileNotFoundError:\n",
        "        print(f\"Error: The file '{input_file}' was not found.\")\n",
        "    except Exception as e:\n",
        "        print(f\"An error occurred: {e}\")\n",
        "\n",
        "def convert_heights_to_cm():\n",
        "    try:\n",
        "        heights = list(map(int, input(\"Enter heights in inches (space-separated): \").split()))\n",
        "\n",
        "        heights_cm_nested = []\n",
        "        for h in heights:\n",
        "            cm = round(h * 2.54, 2)\n",
        "            heights_cm_nested.append(cm)\n",
        "        print(\"In cm (Nested Loop):\", heights_cm_nested)\n",
        "\n",
        "        heights_cm_comprehension = [round(h * 2.54, 2) for h in heights]\n",
        "        print(\"In cm (List Comprehension):\", heights_cm_comprehension)\n",
        "\n",
        "    except ValueError:\n",
        "        print(\"Error: Enter valid numeric heights.\")\n",
        "\n",
        "if __name__ == \"__main__\":\n",
        "    create_input_file()\n",
        "\n",
        "    count_words_in_file(\"input.txt\", \"output.txt\")\n",
        "\n",
        "    convert_heights_to_cm()\n"
      ],
      "metadata": {
        "id": "ug9suYo1vbPf"
      },
      "execution_count": null,
      "outputs": []
    },
    {
      "cell_type": "code",
      "source": [
        "def convert_heights_to_cm():\n",
        "    def inch_to_cm(value):\n",
        "        return round(value * 2.54, 2)\n",
        "\n",
        "    try:\n",
        "        heights_in_inches = list(map(float, input(\"Enter heights in inches separated by spaces: \").split()))\n",
        "\n",
        "        heights_cm_nested = []\n",
        "        for height in heights_in_inches:\n",
        "            heights_cm_nested.append(inch_to_cm(height))\n",
        "        print(\"Heights in centimeters (using nested loop):\", heights_cm_nested)\n",
        "\n",
        "        heights_cm_comprehension = [inch_to_cm(height) for height in heights_in_inches]\n",
        "        print(\"Heights in centimeters (using list comprehension):\", heights_cm_comprehension)\n",
        "\n",
        "    except ValueError:\n",
        "        print(\"Error: Please enter valid numeric heights.\")\n",
        "\n",
        "if __name__ == \"__main__\":\n",
        "    convert_heights_to_cm()\n"
      ],
      "metadata": {
        "id": "GxCEHGwLyQ9P",
        "outputId": "5fb33663-ed68-4108-e0c1-17f473d128aa",
        "colab": {
          "base_uri": "https://localhost:8080/"
        }
      },
      "execution_count": 8,
      "outputs": [
        {
          "output_type": "stream",
          "name": "stdout",
          "text": [
            "Enter heights in inches separated by spaces: 150 155 145 148\n",
            "Heights in centimeters (using nested loop): [381.0, 393.7, 368.3, 375.92]\n",
            "Heights in centimeters (using list comprehension): [381.0, 393.7, 368.3, 375.92]\n"
          ]
        }
      ]
    }
  ],
  "metadata": {
    "colab": {
      "name": "Welcome To Colab",
      "toc_visible": true,
      "provenance": []
    },
    "kernelspec": {
      "display_name": "Python 3",
      "name": "python3"
    }
  },
  "nbformat": 4,
  "nbformat_minor": 0
}